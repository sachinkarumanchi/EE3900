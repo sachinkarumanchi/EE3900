{
 "cells": [
  {
   "cell_type": "code",
   "execution_count": 9,
   "id": "d065bd1f",
   "metadata": {},
   "outputs": [
    {
     "name": "stdout",
     "output_type": "stream",
     "text": [
      "B is [[ 6. -2.  2.]\n",
      " [-2.  3. -1.]\n",
      " [ 2. -1.  3.]]\n",
      "B is a symmetric matrix\n",
      "C is [[0. 0. 0.]\n",
      " [0. 0. 0.]\n",
      " [0. 0. 0.]]\n",
      "C is a skew symmetric matrix\n",
      "D is [[ 6. -2.  2.]\n",
      " [-2.  3. -1.]\n",
      " [ 2. -1.  3.]]\n",
      "A and D are equal matrices\n"
     ]
    }
   ],
   "source": [
    "import numpy as np\n",
    "def symmetric_matrix(A):\n",
    "    if(A.all()==A.T.all()):\n",
    "        return print('B is a symmetric matrix')\n",
    "    else:\n",
    "        return print('B is not a symmnetric matrix')\n",
    "def skew_symmetric_matrix(A):\n",
    "    if(A.all()==(-1)*(A.T).all()):\n",
    "        return print('C is a skew symmetric matrix')\n",
    "    else:\n",
    "        return print('C is not a skew symmetric matrix')\n",
    "def equal_matrices(A,B):\n",
    "    if(A.all()==B.all()):\n",
    "        return print('A and D are equal matrices')\n",
    "    else:\n",
    "        return print('A and D are not equal matrices')\n",
    "# A is the givent matrix\n",
    "A=np.array([[6,-2,2],[-2,3,-1],[2,-1,3]])\n",
    "#B be the symmetric matrix\n",
    "B=(A+A.T)/2\n",
    "print('B is',B)\n",
    "#checking for matrix to be symmetric\n",
    "symmetric_matrix(B)\n",
    "#C be the skew symmetric matrix\n",
    "C=(A-(A.T))/2\n",
    "print('C is',C)\n",
    "#checking for matrix to be skew symmetric\n",
    "skew_symmetric_matrix(C)\n",
    "#Adding symmetric and skew symmetric matrices\n",
    "D=B+C\n",
    "print('D is',D)\n",
    "#comparing original matrix and sum of symmetric and skew symmetric matrices\n",
    "equal_matrices(A,D)\n",
    "#D is the sum of symmetric matrix B and a skew symmetric matrix C"
   ]
  },
  {
   "cell_type": "code",
   "execution_count": null,
   "id": "58e37de1",
   "metadata": {},
   "outputs": [],
   "source": []
  }
 ],
 "metadata": {
  "kernelspec": {
   "display_name": "Python 3",
   "language": "python",
   "name": "python3"
  },
  "language_info": {
   "codemirror_mode": {
    "name": "ipython",
    "version": 3
   },
   "file_extension": ".py",
   "mimetype": "text/x-python",
   "name": "python",
   "nbconvert_exporter": "python",
   "pygments_lexer": "ipython3",
   "version": "3.8.8"
  }
 },
 "nbformat": 4,
 "nbformat_minor": 5
}
